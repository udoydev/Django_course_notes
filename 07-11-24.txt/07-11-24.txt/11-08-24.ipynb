{
 "cells": [
  {
   "cell_type": "code",
   "execution_count": 19,
   "id": "2f034e98",
   "metadata": {},
   "outputs": [
    {
     "name": "stdout",
     "output_type": "stream",
     "text": [
      "0 - 1 - 2 - 3 - 4 - 5 - "
     ]
    }
   ],
   "source": [
    "for i in range(6):\n",
    "    print(i,end=\" - \")"
   ]
  },
  {
   "cell_type": "code",
   "execution_count": 11,
   "id": "e431bb3a",
   "metadata": {},
   "outputs": [
    {
     "name": "stdout",
     "output_type": "stream",
     "text": [
      "41\n",
      "address of the variable is ,140736052403896\n"
     ]
    }
   ],
   "source": [
    "age=41\n",
    "print(age)\n",
    "print(f\"address of the variable is ,{id(age)}\")"
   ]
  },
  {
   "cell_type": "code",
   "execution_count": null,
   "id": "c60f2990",
   "metadata": {},
   "outputs": [
    {
     "name": "stdout",
     "output_type": "stream",
     "text": [
      "his name is sazid and age is 41 and designation is abdullahpuri\n",
      "<class 'str'> <class 'int'> <class 'str'>\n"
     ]
    }
   ],
   "source": [
    "name , age , city = \"sazid\", 41, \"abdullahpuri\"\n",
    "print(f\"his name is {name} and age is {age} and designation is {city}\")\n",
    "print(type(name),type(age),type(city))#print(type(name),type(age),type(city))for the type of the variable\n"
   ]
  },
  {
   "cell_type": "markdown",
   "id": "f3692095",
   "metadata": {},
   "source": [
    "### Operator in python"
   ]
  },
  {
   "cell_type": "code",
   "execution_count": 33,
   "id": "29ac0fb0",
   "metadata": {},
   "outputs": [
    {
     "name": "stdout",
     "output_type": "stream",
     "text": [
      "subtraction  -10\n",
      "addition  30\n",
      "multiplicaton  300\n",
      "divison  3.0\n",
      "divison --  0.6666666666666666\n",
      "modulas  10\n",
      "floor divison  1\n",
      "exponention  10240000000000\n"
     ]
    }
   ],
   "source": [
    "a=10\n",
    "b=20\n",
    "c=30\n",
    "print(\"subtraction \" ,b-c)\n",
    "print(\"addition \",a+b)\n",
    "print(\"multiplicaton \",a*c)\n",
    "print(\"divison \",c/a)\n",
    "print(\"divison -- \",b/c)\n",
    "print(\"modulas \",a%b)\n",
    "print(\"floor divison \",c//b)\n",
    "print(\"exponention \",b**a)"
   ]
  },
  {
   "cell_type": "markdown",
   "id": "96fbb288",
   "metadata": {},
   "source": [
    "### compration operator\n"
   ]
  },
  {
   "cell_type": "code",
   "execution_count": 35,
   "id": "63497681",
   "metadata": {},
   "outputs": [
    {
     "name": "stdout",
     "output_type": "stream",
     "text": [
      "False\n",
      "True\n",
      "False\n",
      "True\n",
      "False\n",
      "True\n"
     ]
    }
   ],
   "source": [
    "# ans will be true or false\n",
    "print(a>b)\n",
    "print(a<b)\n",
    "print(a==b)\n",
    "print(a!=b)\n",
    "print(a>=b)\n",
    "print(a<=b)\n"
   ]
  }
 ],
 "metadata": {
  "kernelspec": {
   "display_name": "Python 3",
   "language": "python",
   "name": "python3"
  },
  "language_info": {
   "codemirror_mode": {
    "name": "ipython",
    "version": 3
   },
   "file_extension": ".py",
   "mimetype": "text/x-python",
   "name": "python",
   "nbconvert_exporter": "python",
   "pygments_lexer": "ipython3",
   "version": "3.12.3"
  }
 },
 "nbformat": 4,
 "nbformat_minor": 5
}
